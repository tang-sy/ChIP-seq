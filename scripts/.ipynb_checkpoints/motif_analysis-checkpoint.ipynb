{
 "cells": [
  {
   "cell_type": "markdown",
   "id": "58f222a9-1461-4cb2-9351-4c4129c73c7d",
   "metadata": {},
   "source": [
    "# HOMER\n",
    "Input files should contain at least five peak_name, chr, start, end, strand."
   ]
  },
  {
   "cell_type": "code",
   "execution_count": null,
   "id": "b7ad39f8-b730-4fd3-9222-805da415c7bc",
   "metadata": {},
   "outputs": [],
   "source": [
    "for i in 2 7 8 13 18\n",
    "do\n",
    "    # Extract columns\n",
    "    # The input files are generated from IDR named like \"col2\"\n",
    "    cut -f1,2,3 callpeak/idr/col${i} | awk '{print NR \"\\t\" $1 \"\\t\" $2 \"\\t\" $3 \"\\t+\"}' \\\n",
    "    > annotation/homer/col${i}.h.bed\n",
    "\n",
    "    # Analyze with HOMER\n",
    "    findMotifsGenome.pl annotation/homer/col${i}.h.bed \\\n",
    "    download/ref/ZmB73.fa annotation/homer/col${i}/ -size 50\n",
    "done"
   ]
  },
  {
   "cell_type": "markdown",
   "id": "50079e27-337d-4236-bdf0-1c99ebaf8b21",
   "metadata": {},
   "source": [
    "# MEME\n",
    "Input files should be sequence files like fasta."
   ]
  },
  {
   "cell_type": "code",
   "execution_count": null,
   "id": "ebee724f-f41f-422a-8a43-006727752373",
   "metadata": {},
   "outputs": [],
   "source": [
    "# Extract peak region sequence\n",
    "for i in 2 7 8 13 18\n",
    "do\n",
    "    # Get the peak location\n",
    "    cut -f1,2,3 callpeak/idr/col${i} > col${i}.bed\n",
    "    \n",
    "    # Extract sequence according to location\n",
    "    bedtools getfasta -fi download/ref/ZmB73.fa \\\n",
    "    -bed callpeak/col${i}.bed -fo annotation/meme/col${i}mm.fasta\n",
    "done"
   ]
  }
 ],
 "metadata": {
  "kernelspec": {
   "display_name": "Bash",
   "language": "bash",
   "name": "bash"
  },
  "language_info": {
   "codemirror_mode": "shell",
   "file_extension": ".sh",
   "mimetype": "text/x-sh",
   "name": "bash"
  }
 },
 "nbformat": 4,
 "nbformat_minor": 5
}
