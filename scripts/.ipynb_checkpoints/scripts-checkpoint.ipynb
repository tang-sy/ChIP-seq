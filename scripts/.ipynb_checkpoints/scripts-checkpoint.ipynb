{
 "cells": [
  {
   "cell_type": "markdown",
   "id": "69ca31c2-74be-4f1f-b4e4-4305ad4e0999",
   "metadata": {},
   "source": [
    "# Chip-Seq Analysis of CONSTANS-Like Family Transcription Factors in Maize\n",
    "## 1 Data Download\n",
    "SRA files were downloaded to \"data/sra\" directory. "
   ]
  },
  {
   "cell_type": "code",
   "execution_count": null,
   "id": "0236a58d-0930-480e-ab69-e0bea883ab3b",
   "metadata": {},
   "outputs": [],
   "source": [
    "while read line; do\n",
    "    fasterq-dump -e 4 --split-3 -O data/sra $line\n",
    "\tgzip ${line}_1.fastq\n",
    "\tgzip ${line}_2.fastq\n",
    "done < sra/SRR_Acc_List.txt    # SRA accession numbers are listed in `SRR_Acc_List.txt`"
   ]
  },
  {
   "cell_type": "markdown",
   "id": "2297e97a-52d1-4110-b62a-11afd92a2c0b",
   "metadata": {},
   "source": [
    "## 2 Alignment\n",
    "Reference genome was downloaded manually to \"data/ref/ZmB73.fa\"."
   ]
  },
  {
   "cell_type": "code",
   "execution_count": null,
   "id": "74f937b8-372c-440e-879a-43952057a3e9",
   "metadata": {},
   "outputs": [],
   "source": [
    "while read line\n",
    "do\n",
    "\tbowtie2 -3 100 -p 4 -x ref/ZmB73 -1 sra/${line}_1.fastq.gz -2 sra/${line}_2.fastq.gz | \\\n",
    "\tsamtools view -F 4 -q 10 -bS | samtools fixmate -m - - | \\\n",
    "\tsamtools sort -O bam | samtools markdup -r -S - mapping/${line}.bam\n",
    "done < sra/SRR_Acc_List.txt"
   ]
  },
  {
   "cell_type": "markdown",
   "id": "1a9b1800-13c1-434c-8b6f-c22682e16d78",
   "metadata": {},
   "source": [
    "## 3 Peak Calling"
   ]
  },
  {
   "cell_type": "code",
   "execution_count": null,
   "id": "7a0fd4a1-75d4-4075-a054-a3536408bcef",
   "metadata": {},
   "outputs": [],
   "source": [
    "# Define arrays of sample names and their corresponding control files\n",
    "samples=(\"SRR8525054\" \"SRR8525053\" \"SRR8524999\" \"SRR8524998\" \"SRR8525167\" \"SRR8525166\" \"SRR8525097\" \"SRR8525096\" \"SRR8525087\" \"SRR8525088\")\n",
    "controls=(\"control1\" \"control2\" \"control1\" \"control2\" \"control1\" \"control2\" \"control1\" \"control2\" \"control1\" \"control2\")\n",
    "names=(\"col8_1\" \"col8_2\" \"col13_1\" \"col13_2\" \"col7_1\" \"col7_2\" \"col2_1\" \"col2_2\" \"col18_1\" \"col18_2\")\n",
    "\n",
    "# Loop through the samples and run macs3 callpeak\n",
    "for ((i=1; i<=${#samples[@]}; i++)); do\n",
    "    sample=${samples[$i]}\n",
    "    control=${controls[$i]}\n",
    "    name=${names[$i]}\n",
    "    macs3 callpeak -t mapping/${sample}.bam -c mapping/${control}.bam -f BAMPE \\\n",
    "    -g 2178268108 -n ${name} --outdir callpeak/ori/${name} --call-summits\n",
    "done"
   ]
  },
  {
   "cell_type": "markdown",
   "id": "79f49aad-6a2c-47a5-b697-60e4cf3515e1",
   "metadata": {},
   "source": [
    "## 4 Peak Filtering"
   ]
  },
  {
   "cell_type": "code",
   "execution_count": null,
   "id": "b0fc39d0-c2c6-4653-8de9-9d7e2fa27543",
   "metadata": {},
   "outputs": [],
   "source": [
    "# Annotate repeats\n",
    "~/software/RepeatMasker/RepeatMasker -pa 4 -species \"Zea mays\" -e rmblast \\\n",
    "    -xsmall -s -gff -dir callpeak/repeat/ download/ref/ZmB73.fa\n",
    "\n",
    "# Convert output to bed\n",
    "awk '{print $5, $6, $7}' OFS=\"\\t\" callpeak/repeat/ZmB73.fa.out | tail -n +4 > callpeak/repeats.bed\n",
    "\n",
    "# Remove peaks located in repeat regions\n",
    "for file in callpeak/ori/*/*_peaks.narrowPeak\n",
    "do\n",
    "    base_name=$(basename $file _peaks.narrowPeak)\n",
    "    bedtools intersect -a $file -b callpeak/repeats.bed -v \\\n",
    "    > callpeak/filt/${base_name}.filt.narrowPeak\n",
    "done"
   ]
  },
  {
   "attachments": {},
   "cell_type": "markdown",
   "id": "1cc04a72-f409-4dc2-afb5-96a817ee4fd6",
   "metadata": {},
   "source": [
    "## 5 Quality Assessment\n",
    "### 5.1 Correlation between duplicates"
   ]
  },
  {
   "cell_type": "code",
   "execution_count": null,
   "id": "66ae7d74-9f00-4b45-b820-f82dd794910e",
   "metadata": {},
   "outputs": [],
   "source": [
    "# Index bam files\n",
    "for file in mapping/SRR*\n",
    "do\n",
    "\tsamtools index $file\n",
    "done\n",
    "\n",
    "# Generate npy\n",
    "# Loop through the sample pairs and run multiBamSummary\n",
    "for ((i=1; i<${#samples[@]}; i=i+2)); do\n",
    "    pair_1=${samples[$i]}\n",
    "    pair_2=${samples[$i+1]}\n",
    "    name=$(echo ${names[$i]} | awk -F'_' '{print $1}')\n",
    "    multiBamSummary bins --bamfiles mapping/$pair_1.bam mapping/$pair_2.bam \\\n",
    "    -o qc/pearson/${name}.npz\n",
    "done\n",
    "\n",
    "# Calculate Pearson correlation coefficient\n",
    "for file in qc/pearson/*.npz\n",
    "do\n",
    "    base_name=$(basename $file .npz)\n",
    "    plotCorrelation -in $file --corMethod pearson \\\n",
    "    --whatToPlot heatmap \\\n",
    "    --outFileCorMatrix pearson/${base_name}.tab \\\n",
    "    -o qc/pearson/${base_name}_correlation.png\n",
    "done"
   ]
  },
  {
   "cell_type": "markdown",
   "id": "2c0258aa-f2af-4087-b6cb-fb01b3cb2378",
   "metadata": {},
   "source": [
    "### 5.2 Signal-to-noise ratios"
   ]
  },
  {
   "cell_type": "code",
   "execution_count": null,
   "id": "b8a91fc6-f965-480a-a52d-1ffa05ea0326",
   "metadata": {},
   "outputs": [],
   "source": [
    "# Generate output files from PhantomPeakQualTools\n",
    "for bam in mapping/*.bam\n",
    "do\n",
    "name=$(basename $bam .bam)\n",
    "Rscript run_spp.R -c=$bam -savp -out=qc/signal2noise/${name}.qual > ${name}.Rout\n",
    "done\n",
    "# Extract 9,10,11 column of .qual\n",
    "for file in qc/signal2noise/*.qual; do\n",
    "    awk -v FILENAME=\"$file\" '{print FILENAME, $9,$10,$11}' \"$file\"\n",
    "done > combined_output.txt"
   ]
  },
  {
   "cell_type": "markdown",
   "id": "45f8225c-4c23-408d-b96e-bcb45d0db0dc",
   "metadata": {},
   "source": [
    "### 5.3 Enrichment analysis"
   ]
  },
  {
   "cell_type": "code",
   "execution_count": null,
   "id": "e5d43485-5f93-4080-b3d0-f04a891f3010",
   "metadata": {},
   "outputs": [],
   "source": [
    "plotFingerprint -b control1.bam SRR8525054.bam \\\n",
    "    SRR8524999.bam SRR8525167.bam \\\n",
    "    SRR8525097.bam SRR8525073.bam \\\n",
    "    SRR8525087.bam\n",
    "    -o qc/enrichment/fingerprint_1.png \\\n",
    "    -l 'control1' 'COL8' 'COL13' 'COL7' 'COL2' 'COL3' 'COL18'\n",
    "plotFingerprint -b control2.bam SRR8525053.bam \\\n",
    "    SRR8524998.bam SRR8525166.bam \\\n",
    "    SRR8525096.bam SRR8525075.bam \\\n",
    "    SRR8525088.bam\n",
    "    -o qc/enrichment/fingerprint_2.png \\\n",
    "    -l 'control2' 'COL8' 'COL13' 'COL7' 'COL2' 'COL3' 'COL18'"
   ]
  },
  {
   "cell_type": "markdown",
   "id": "79ae54ad-e48c-4faa-8406-6d50afd5a92f",
   "metadata": {},
   "source": [
    "## 6 Reproducibility Analysis"
   ]
  },
  {
   "cell_type": "code",
   "execution_count": null,
   "id": "8e895a69-8b1e-46c5-9ded-56df42a118f0",
   "metadata": {},
   "outputs": [],
   "source": [
    "for i in 2 7 8 13 18\n",
    "do\n",
    "    idr --samples callpeak/filt/col${i}_1.filt.narrowPeak \\\n",
    "\tcallpeak/filt/col${i}_2.filt.narrowPeak \\\n",
    "\t--input-file-type narrowPeak --rank p.value --idr-threshold 0.01 \\\n",
    "\t--output-file callpeak/idr \\\n",
    "\t--plot --log-output-file callpeak/idr/col${i}.idr.log\n",
    "done"
   ]
  },
  {
   "cell_type": "markdown",
   "id": "af985293-2ec0-4bd6-ab6d-7020e8fc6d11",
   "metadata": {},
   "source": [
    "## 7 Annotation\n",
    "### 7.1 ChIPseeker File preparation"
   ]
  },
  {
   "cell_type": "code",
   "execution_count": null,
   "id": "13027103-a406-47e1-8984-d16bc3999ef2",
   "metadata": {},
   "outputs": [],
   "source": [
    "# Extract five columns of BED files: chr, start, end, peak_name, signal_score\n",
    "for i in 2 7 8 13 18\n",
    "do\n",
    "   awk 'FNR==NR{a[$1,$2,$3];next} ($1,$2,$3) in a{print}' callpeak/idr/col${i}.bed \\\n",
    "    <(awk '{print $1,$2,$3,$4,$7}' filt/col${i}_1.filt.narrowPeak) \\\n",
    "    <(awk '{print $1,$2,$3,$4,$7}' filt/col${i}_2.filt.narrowPeak) \\\n",
    "    > annotation/chipseeker/col${i}anno.bed \n",
    "done"
   ]
  },
  {
   "cell_type": "code",
   "execution_count": null,
   "id": "f7045272-ff62-47fa-90f5-df8b9063b412",
   "metadata": {},
   "outputs": [],
   "source": [
    "for i in 2 7 8 13 18\n",
    "do\n",
    "    cut -f1,2,3 callpeak/idr/col${i} > col${i}.peak\n",
    "    cat callpeak/filt/col${i}_1.filt.narrowPeak callpeak/filt/col${i}_2.filt.narrowPeak | cut -f1,2,3,7 > col${i}.score\n",
    "done"
   ]
  }
 ],
 "metadata": {
  "kernelspec": {
   "display_name": "Bash",
   "language": "bash",
   "name": "bash"
  },
  "language_info": {
   "codemirror_mode": "shell",
   "file_extension": ".sh",
   "mimetype": "text/x-sh",
   "name": "bash"
  }
 },
 "nbformat": 4,
 "nbformat_minor": 5
}
