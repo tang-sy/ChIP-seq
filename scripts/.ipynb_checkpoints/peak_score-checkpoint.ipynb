{
 "cells": [
  {
   "cell_type": "code",
   "execution_count": null,
   "id": "25f95ae0-3d38-469e-aaf2-628d7197bfb4",
   "metadata": {},
   "outputs": [],
   "source": [
    "import pandas as pd"
   ]
  },
  {
   "cell_type": "code",
   "execution_count": null,
   "id": "0e847dbf-aa3a-4dc6-862a-e4cf06c18bfe",
   "metadata": {},
   "outputs": [],
   "source": [
    "# Load intersected peaks\n",
    "intersected_peaks = pd.read_csv('col2.peak', sep='\\t', header=None)"
   ]
  },
  {
   "cell_type": "code",
   "execution_count": null,
   "id": "6f8958aa-81f1-4f42-815a-0cc85dc666d0",
   "metadata": {},
   "outputs": [],
   "source": [
    "\n",
    "\n",
    "# Assuming the columns are as follows:\n",
    "# MACS3 columns: chrom, start, end, name, score, strand, fold_enrichment, ...\n",
    "# IDR columns: chrom, start, end, name, score, strand, ...\n",
    "\n",
    "# Rename columns for clarity\n",
    "intersected_peaks.columns = [\n",
    "    'chrom_macs', 'start_macs', 'end_macs', 'name_macs', 'score_macs', 'strand_macs', 'fold_enrichment',\n",
    "    'chrom_idr', 'start_idr', 'end_idr', 'name_idr', 'score_idr', 'strand_idr'\n",
    "]\n",
    "\n",
    "# Filter out necessary\n"
   ]
  }
 ],
 "metadata": {
  "kernelspec": {
   "display_name": "Python 3 (ipykernel)",
   "language": "python",
   "name": "python3"
  },
  "language_info": {
   "codemirror_mode": {
    "name": "ipython",
    "version": 3
   },
   "file_extension": ".py",
   "mimetype": "text/x-python",
   "name": "python",
   "nbconvert_exporter": "python",
   "pygments_lexer": "ipython3",
   "version": "3.12.3"
  }
 },
 "nbformat": 4,
 "nbformat_minor": 5
}
