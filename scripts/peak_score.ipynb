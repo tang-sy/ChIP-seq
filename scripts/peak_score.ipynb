{
 "cells": [
  {
   "cell_type": "code",
   "execution_count": 5,
   "id": "25f95ae0-3d38-469e-aaf2-628d7197bfb4",
   "metadata": {},
   "outputs": [],
   "source": [
    "import pandas as pd"
   ]
  },
  {
   "cell_type": "code",
   "execution_count": 25,
   "id": "6f8958aa-81f1-4f42-815a-0cc85dc666d0",
   "metadata": {},
   "outputs": [],
   "source": [
    "def generate_score(tf, idr_peaks, scores):\n",
    "    '''\n",
    "        This is a function that merge idr generated peaks and their corresponding ChIP-seq signal scores.\n",
    "        @Parameters：\n",
    "        tf: String, name of transcription factor, like \"col2\"\n",
    "        idr_peaks: dataframe, the 1-3 fields of IDR output, containing chr, start, end.\n",
    "        scores: dataframe, the 1-3,7 fields of narrowPeak file, containing chr, start, end, score.\n",
    "    '''\n",
    "    # Add new columns in peaks.df to store the score\n",
    "    idr_peaks['score'] = 0.0\n",
    "    idr_peaks['TF'] = tf\n",
    "    idr_peaks = idr_peaks[['TF', 'chr', 'start', 'end']]\n",
    "    \n",
    "    # Iterate over each row in peaks.df\n",
    "    for i, peak_row in idr_peaks.iterrows():\n",
    "        # Filter scores.df for rows that match the criteria\n",
    "        matching_scores = scores[\n",
    "            (scores['chr'] == peak_row['chr']) & \n",
    "            (scores['start'] >= peak_row['start']) & \n",
    "            (scores['end'] <= peak_row['end'])\n",
    "        ]\n",
    "    \n",
    "        # Calculate the score to be added\n",
    "        if len(matching_scores) == 1:\n",
    "            # Only one matching row, take the score directly\n",
    "            score = matching_scores.iloc[0]['score']\n",
    "        elif len(matching_scores) > 1:\n",
    "            # Multiple matching rows, take the average score\n",
    "            score = format(matching_scores['score'].mean(), '.5f')\n",
    "        else:\n",
    "            # No matching rows, set score to NaN or some default value\n",
    "            score = float('nan')\n",
    "        \n",
    "        # Update the score column in peaks.df\n",
    "        idr_peaks.at[i, 'score'] = score\n",
    "    \n",
    "    return(idr_peaks)"
   ]
  },
  {
   "cell_type": "code",
   "execution_count": 26,
   "id": "cfc7171d-cba8-4941-a630-1847978b679c",
   "metadata": {},
   "outputs": [],
   "source": [
    "# Create a dataframe to save peaks and scores\n",
    "peak_scores = pd.DataFrame()\n",
    "\n",
    "for i in [2,7,8,13,18]:\n",
    "    idr_name = 'col'+str(i)+'.peak'\n",
    "    score_name = 'col'+str(i)+'.score'\n",
    "    # Load intersected peaks\n",
    "    idr_peaks = pd.read_csv(idr_name, sep='\\t', header=None)\n",
    "    idr_peaks.columns = ['chr', 'start', 'end']\n",
    "    # Load peak scores\n",
    "    scores = pd.read_csv('col2.score', sep='\\t', header=None)\n",
    "    scores.columns = ['chr', 'start', 'end', 'score']\n",
    "    # Calculate peak scores \n",
    "    new_scores = generate_score('col'+str(i), idr_peaks, scores)\n",
    "    peak_scores = pd.concat([peak_scores, new_scores],axis=0,ignore_index=True)\n",
    "\n",
    "# Output file\n",
    "peak_scores.to_csv(\"gene_score.csv\", header=False, index=False)"
   ]
  },
  {
   "cell_type": "code",
   "execution_count": null,
   "id": "0572ff04-f8c3-4061-958a-dd5418cf487f",
   "metadata": {},
   "outputs": [],
   "source": []
  }
 ],
 "metadata": {
  "kernelspec": {
   "display_name": "Python 3 (ipykernel)",
   "language": "python",
   "name": "python3"
  },
  "language_info": {
   "codemirror_mode": {
    "name": "ipython",
    "version": 3
   },
   "file_extension": ".py",
   "mimetype": "text/x-python",
   "name": "python",
   "nbconvert_exporter": "python",
   "pygments_lexer": "ipython3",
   "version": "3.12.3"
  }
 },
 "nbformat": 4,
 "nbformat_minor": 5
}
